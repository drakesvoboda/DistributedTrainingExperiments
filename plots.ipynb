{
 "metadata": {
  "language_info": {
   "codemirror_mode": {
    "name": "ipython",
    "version": 3
   },
   "file_extension": ".py",
   "mimetype": "text/x-python",
   "name": "python",
   "nbconvert_exporter": "python",
   "pygments_lexer": "ipython3",
   "version": "3.7.9"
  },
  "orig_nbformat": 2,
  "kernelspec": {
   "name": "python3",
   "display_name": "Python 3.7.9 64-bit ('pytorch': conda)",
   "metadata": {
    "interpreter": {
     "hash": "4fb0993c95f6fe673af372ac75c9236c92434fbb022954d714526ba84bbe1bab"
    }
   }
  }
 },
 "nbformat": 4,
 "nbformat_minor": 2,
 "cells": [
  {
   "cell_type": "code",
   "execution_count": 1,
   "metadata": {},
   "outputs": [],
   "source": [
    "import matplotlib.pyplot as plt"
   ]
  },
  {
   "cell_type": "code",
   "execution_count": null,
   "metadata": {},
   "outputs": [],
   "source": [
    "throughputs = {\n",
    "    \"MLP\": {\n",
    "        \"Pytorch DDP\": 92.1450,\n",
    "        \"EASGD\": 501.2848,\n",
    "        \"Significance Compression (Ours)\": 487.3924,\n",
    "        \"Staggered EASGD (Ours)\": None\n",
    "    },\n",
    "    \"CNN\": {\n",
    "        \"Pytorch DDP\": None,\n",
    "        \"EASGD\": 264.6331,\n",
    "        \"Significance Compression (Ours)\": None,\n",
    "        \"Staggered EASGD (Ours)\": 255.3757\n",
    "    },\n",
    "    \"LSTM\": {\n",
    "        \"Pytorch DDP\": None,\n",
    "        \"EASGD\": None,\n",
    "        \"Significance Compression (Ours)\": None,\n",
    "        \"Staggered EASGD (Ours)\": None\n",
    "    },\n",
    "\n",
    "    \"Transformer\": {\n",
    "        \"Pytorch DDP\": None,\n",
    "        \"EASGD\": None,\n",
    "        \"Significance Compression (Ours)\": None,\n",
    "        \"Staggered EASGD (Ours)\": None\n",
    "    }\n",
    "}"
   ]
  }
 ]
}